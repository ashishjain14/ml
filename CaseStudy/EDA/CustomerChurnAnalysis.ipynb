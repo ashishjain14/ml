{
 "cells": [
  {
   "cell_type": "markdown",
   "id": "9c1f152a-9908-4a22-a85f-ef45d6edbfc7",
   "metadata": {},
   "source": [
    "### Customer Churn Analysis"
   ]
  },
  {
   "cell_type": "code",
   "execution_count": null,
   "id": "aae69004-245b-4267-8479-740786429c6e",
   "metadata": {},
   "outputs": [],
   "source": []
  }
 ],
 "metadata": {
  "kernelspec": {
   "display_name": "Python 3 (ipykernel)",
   "language": "python",
   "name": "python3"
  },
  "language_info": {
   "codemirror_mode": {
    "name": "ipython",
    "version": 3
   },
   "file_extension": ".py",
   "mimetype": "text/x-python",
   "name": "python",
   "nbconvert_exporter": "python",
   "pygments_lexer": "ipython3",
   "version": "3.11.7"
  }
 },
 "nbformat": 4,
 "nbformat_minor": 5
}
